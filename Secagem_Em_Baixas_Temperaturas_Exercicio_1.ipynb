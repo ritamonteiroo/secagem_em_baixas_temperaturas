{
  "nbformat": 4,
  "nbformat_minor": 0,
  "metadata": {
    "colab": {
      "provenance": [],
      "include_colab_link": true
    },
    "kernelspec": {
      "name": "python3",
      "display_name": "Python 3"
    },
    "language_info": {
      "name": "python"
    }
  },
  "cells": [
    {
      "cell_type": "markdown",
      "metadata": {
        "id": "view-in-github",
        "colab_type": "text"
      },
      "source": [
        "<a href=\"https://colab.research.google.com/github/ritamonteiroo/secagem_em_baixas_temperaturas/blob/main/Secagem_Em_Baixas_Temperaturas_Exercicio_1.ipynb\" target=\"_parent\"><img src=\"https://colab.research.google.com/assets/colab-badge.svg\" alt=\"Open In Colab\"/></a>"
      ]
    },
    {
      "cell_type": "markdown",
      "source": [
        "# Secagens em baixas temperaturas - Exercício 1 - página 237\n",
        "\n",
        "Criado em 23 de Setembro de 2024\n",
        "\n",
        "Script adaptado do livro de Armazenagem de Grãos de Queiroz e Valente (2018)\n",
        "\n",
        "QUEIROZ, Daniel Marçal de; VALENTE, Domingos Sárvio Magalhães. Secagem de grãos para unidades de armazenamento. In: LORINI, Irineu; MIIKE, Lincoln Hiroshi; SCUSSEL, Vildes Maria; FARONI, Lêda Rita D'Antonino. Armazenagem de Grãos. Jundiaí: Bio Geneziz, 2018. p. 231-278."
      ],
      "metadata": {
        "id": "3thiEnkXa8bO"
      }
    },
    {
      "cell_type": "markdown",
      "source": [
        "Exercicio 1:\n",
        "Uma determinada localidade apresenta uma temperatura média de 22°C e uma umidade relativa de 80% durante o período de colheita. Utilizando o programa abaixo, determine a necessidade de aquecimento de ar para se conseguir secar milho até um teor de água final de 13%.\n"
      ],
      "metadata": {
        "id": "CSR4JT58aZdt"
      }
    },
    {
      "cell_type": "code",
      "execution_count": null,
      "metadata": {
        "id": "QUInzHQWaYDA"
      },
      "outputs": [],
      "source": [
        "#carregar os pacotes\n",
        "import math\n",
        "from scipy import optimize\n"
      ]
    },
    {
      "cell_type": "code",
      "source": [
        "#função para o cálculo da pressão de vapor saturação, mmHg\n",
        "pvsf= lambda Tabs:22105649.25*math.exp((-27405.526+97.5413*Tabs-0.146244*Tabs**2+1.2558E-4*Tabs**3-4.8502E-8*Tabs**4)/\n",
        " (4.34903*Tabs-3.9381E-3*Tabs**2))/133.322"
      ],
      "metadata": {
        "id": "bvH3CV4ebvlW"
      },
      "execution_count": null,
      "outputs": []
    },
    {
      "cell_type": "code",
      "source": [
        "#função para cálculo da diferença entre a umidade e a umidade relativa do ar\n",
        "def equilibrio (DT,Tamb,URamb, K,N,C,uf):\n",
        "  pvsamb=pvsf(Tamb+273.15) #Cálculo da pressão de vapor ambiente\n",
        "  pv=URamb*pvsamb/100 #Cálculo da pressão parcial de vapor ambiente\n",
        "  Tn=Tamb+DT #Cálculo da nova temperatura\n",
        "  pvsn=pvsf(Tn+273.15) #Cálculo da nova pressão de vapor de saturação\n",
        "  URn=pv/pvsn*100 #Cálculo da nova umidade relativa\n",
        "  Ubs= uf/(100-uf) #Cálculo da razão de umidade do material\n",
        "  return 1-math.exp(-K*(Tn+C)*(100*Ubs)**N)-URn/100\n"
      ],
      "metadata": {
        "id": "kjUAHDIld0jQ"
      },
      "execution_count": null,
      "outputs": []
    },
    {
      "cell_type": "code",
      "source": [
        "#função para o cálculo do aquecimento de ar\n",
        "def deltat(produto,Tamb,URamb,uf):\n",
        "  #parâmetros da equação de Henderson Modificada para umidade de equilíbrio\n",
        "  ue_p={'milho':[8.654E-5,1.8634,49.810],'soja':[50.3633E-5,1.3628,43015],\n",
        "        'sorgo':[0.8532E-5,2.4757,113.725],'arroz':[1.9187E-5,2.4451,51.161],\n",
        "        'feijão':[2.0889E-5,1.8812,254.23],'trigo':[2.5738E-5,2.2110,70.318]}\n",
        "  K,N,C=ue_p[produto.lower()]\n",
        "  DT=0\n",
        "  '''\n",
        "  utilizando a função newton da Biblioteca Scipy para o cálculo do aquecimento\n",
        "  ou resfriamento de ar necessário. É considerado que o ventilador aquece o ar\n",
        "  # em 1°C.\n",
        "  '''\n",
        "  res= optimize.newton(equilibrio,DT,args=(Tamb,URamb,K,N,C,uf))-1.0\n",
        "  return res\n",
        "\n"
      ],
      "metadata": {
        "id": "ZopfkfXpgHOY"
      },
      "execution_count": null,
      "outputs": []
    },
    {
      "cell_type": "code",
      "source": [
        "#entrada de dados\n",
        "print(\"\\nPROGRAMA PARA CÁLCULO DO AQUECIMENTO/RESFRIAMENTO DE AR NECESSÁRIO NA SECAGEM EM BAIXAS TEMPERATURAS\")\n",
        "produto=(input(\"Qual é o produto a ser seco?(milho,sorgo ou feijão)\\n\"))\n",
        "Tamb=float(input(\"\\nQual é a temperatura ambiente em graus celsius?\\n\"))\n",
        "URamb=float(input(\"\\nQual é a umidade relativa ambiente?\\n\"))\n",
        "uf=float(input(\"\\nQual é a umidade final desejada para o produto, %b.u.?\\n\"))\n",
        "\n"
      ],
      "metadata": {
        "colab": {
          "base_uri": "https://localhost:8080/"
        },
        "id": "l6JjP7FwqwsL",
        "outputId": "dd23637a-9ebe-4705-d0a1-d44cf2ffbfdc"
      },
      "execution_count": null,
      "outputs": [
        {
          "name": "stdout",
          "output_type": "stream",
          "text": [
            "\n",
            "PROGRAMA PARA CÁLCULO DO AQUECIMENTO/RESFRIAMENTO DE AR NECESSÁRIO NA SECAGEM EM BAIXAS TEMPERATURAS\n",
            "Qual é o produto a ser seco?(milho,sorgo ou feijão)\n",
            "milho\n",
            "\n",
            "Qual é a temperatura ambiente em graus celsius?\n",
            "22\n",
            "\n",
            "Qual é a umidade relativa ambiente?\n",
            "80\n",
            "\n",
            "Qual é a umidade final desejada para o produto, %b.u.?\n",
            "13\n"
          ]
        }
      ]
    },
    {
      "cell_type": "code",
      "source": [
        "#cálculo do aquecimento de ar\n",
        "dt=deltat(produto,Tamb,URamb,uf)\n"
      ],
      "metadata": {
        "id": "EhwH8rmis8WL"
      },
      "execution_count": null,
      "outputs": []
    },
    {
      "cell_type": "code",
      "source": [
        "#printando o resultado\n",
        "if(dt>0):print(\"\\nO aquecimento necessário é de {0:2f} graus celsius.\".format(dt))\n",
        "else:print(\"\\nO resfriamento necessário é de {0:2f} graus celsius.\".format(-dt))"
      ],
      "metadata": {
        "colab": {
          "base_uri": "https://localhost:8080/"
        },
        "id": "wyOvWsoGuwf4",
        "outputId": "259b3521-7d49-448e-a289-daee6b07da24"
      },
      "execution_count": null,
      "outputs": [
        {
          "output_type": "stream",
          "name": "stdout",
          "text": [
            "\n",
            "O aquecimento necessário é de 2.823928 graus celsius.\n"
          ]
        }
      ]
    }
  ]
}