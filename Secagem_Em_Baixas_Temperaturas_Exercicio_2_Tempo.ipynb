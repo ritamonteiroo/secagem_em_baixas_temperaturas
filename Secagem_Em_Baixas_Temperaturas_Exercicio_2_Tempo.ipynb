{
  "nbformat": 4,
  "nbformat_minor": 0,
  "metadata": {
    "colab": {
      "provenance": [],
      "include_colab_link": true
    },
    "kernelspec": {
      "name": "python3",
      "display_name": "Python 3"
    },
    "language_info": {
      "name": "python"
    }
  },
  "cells": [
    {
      "cell_type": "markdown",
      "metadata": {
        "id": "view-in-github",
        "colab_type": "text"
      },
      "source": [
        "<a href=\"https://colab.research.google.com/github/ritamonteiroo/secagem_em_baixas_temperaturas/blob/main/Secagem_Em_Baixas_Temperaturas_Exercicio_2_Tempo.ipynb\" target=\"_parent\"><img src=\"https://colab.research.google.com/assets/colab-badge.svg\" alt=\"Open In Colab\"/></a>"
      ]
    },
    {
      "cell_type": "markdown",
      "source": [
        "# Secagem em baixas temperaturas - Exercício 2 -página 241\n",
        "\n",
        "Criado em 23 de Setembro de 2024\n",
        "\n",
        "Script adaptado do livro de Armazenagem de Grãos de Queiroz e Valente (2018)\n",
        "\n",
        "QUEIROZ, Daniel Marçal de; VALENTE, Domingos Sárvio Magalhães. Secagem de grãos para unidades de armazenamento. In: LORINI, Irineu; MIIKE, Lincoln Hiroshi; SCUSSEL, Vildes Maria; FARONI, Lêda Rita D'Antonino. Armazenagem de Grãos. Jundiaí: Bio Geneziz, 2018. p. 231-278."
      ],
      "metadata": {
        "id": "yLXhuj1oKzwv"
      }
    },
    {
      "cell_type": "markdown",
      "source": [
        "Utilize o programa abaixo para calcular p tempo que uma massa de milho mantida a 22°C, com 25% de umidade base úmida e 30% de danos mecânicos leva para perder 0,50% de matéria seca"
      ],
      "metadata": {
        "id": "peMC5jjAwHp-"
      }
    },
    {
      "cell_type": "code",
      "source": [
        "#carregar os pacotes\n",
        "import math\n",
        "from math import log,exp\n",
        "from scipy import optimize"
      ],
      "metadata": {
        "id": "LKADuQbiLHLk"
      },
      "execution_count": null,
      "outputs": []
    },
    {
      "cell_type": "code",
      "source": [
        "#função para o cálculo do tempo para se atingir a perda 0,50% de matéria seca\n",
        "def tempoeq(t,m):\n",
        "  return 7.33-1.3*(exp(0.006*t/m)-1)-0.015*t/m\n"
      ],
      "metadata": {
        "id": "TMEyh-hGw9Px"
      },
      "execution_count": null,
      "outputs": []
    },
    {
      "cell_type": "code",
      "source": [
        "'''\n",
        "função que calcula os multiplicadores e chama a função para o cálculo do tempo\n",
        "em que se atinge 0,50% de perda de matéria seca\n",
        "'''\n",
        "\n",
        "def tempoArmazenamentoPossível(T,U,D):\n",
        "  MT=1.0\n",
        "  MU=1.0\n",
        "  MD=1.0\n",
        "  #cálculo do multiplicado de temperatura\n",
        "  if(T>15.6)and(T<49)and U<=19:\n",
        "    MT=32.2*exp(-3.48*(1.8*T+32)/60)\n",
        "  if(T>15.6)and(T<26.7)and U>19 and U<=28:\n",
        "    MT=exp(-4.923277E-3+(0.05*(1.8*T+32)-3)*(log(0.0795012+0.01233150*U)))\n",
        "  if(T>15.6)and(T<26.7)and U>28:\n",
        "    MT=exp(2.56683-0.0428628*(1.8*T+32))\n",
        "  if(T>15.6)and(T<49)and U>19 and U<=28:\n",
        "    MT=32.2*exp(-3.48*(1.8*T+32)/60)+((U-19)/100)*exp(0.61*(1.8*T-28)/60)\n",
        "  if(T>26.7)and(T<49)and U>28:\n",
        "    MT=32.3*exp(-3.48*(1.8*T+32)/60)+0.09*exp(0.61*(1.8*T-28)/60)\n",
        "  if T>=0.0 and T<=15.6:\n",
        "    MT=128.389*exp(-4.86*(1.8*T+32)/60)\n",
        "  #cálculo do multiplicador total\n",
        "  m=MT*MU*MD\n",
        "  #valor inicial para o tempo de armazenamento possível\n",
        "  t=230\n",
        "  #utiliza a função newton da biblioteca scipy para calcular o tempo de armazenamento possível\n",
        "  res= optimize.newton(tempoeq,t,args=(m,))\n",
        "  return res\n"
      ],
      "metadata": {
        "id": "DYM_a6KxxYDH"
      },
      "execution_count": null,
      "outputs": []
    },
    {
      "cell_type": "code",
      "source": [
        "#Entrada dos dados\n",
        "print(\"\\n\\n PROGRAMA PARA O CÁLCULO DO TEMPO DE AR PARA QUE OCORRA UMA PERDA   de 0.50% DE MATÉRIA SECA\")\n",
        "T= float(input(\"\\nEntre com a temperatura da massa de milho(graus Celsius:)\"))\n",
        "U= float(input(\"\\nEntre com o teor de água da massa de milho(% b.u):\"))\n",
        "D= float(input(\"\\nEntre com o teor de danos mecânicos (entre 2% e 41%):\"))\n",
        "\n",
        "t=tempoArmazenamentoPossível(T,U,D)\n",
        "print(\"\\n\\nResultado\")\n",
        "print(\"O tempo para atingir 0,50% de matéria seca, em dias é: \",float(t/24))"
      ],
      "metadata": {
        "colab": {
          "base_uri": "https://localhost:8080/"
        },
        "id": "OZlvUTXt1bT9",
        "outputId": "87e29114-26ed-42cb-d5c3-c74f5c6e6e1b"
      },
      "execution_count": null,
      "outputs": [
        {
          "output_type": "stream",
          "name": "stdout",
          "text": [
            "\n",
            "\n",
            " PROGRAMA PARA O CÁLCULO DO TEMPO DE AR PARA QUE OCORRA UMA PERDA   de 0.50% DE MATÉRIA SECA\n",
            "\n",
            "Entre com a temperatura da massa de milho(graus Celsius:)29\n",
            "\n",
            "Entre com o teor de água da massa de milho(% b.u):16\n",
            "\n",
            "Entre com o teor de danos mecânicos (entre 2% e 41%):25\n",
            "\n",
            "\n",
            "Resultado\n",
            "O tempo para atingir 0,50% de matéria seca, em dias é:  2.338673785503736\n"
          ]
        }
      ]
    }
  ]
}