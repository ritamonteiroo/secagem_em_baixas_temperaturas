{
  "nbformat": 4,
  "nbformat_minor": 0,
  "metadata": {
    "colab": {
      "provenance": [],
      "include_colab_link": true
    },
    "kernelspec": {
      "name": "python3",
      "display_name": "Python 3"
    },
    "language_info": {
      "name": "python"
    }
  },
  "cells": [
    {
      "cell_type": "markdown",
      "metadata": {
        "id": "view-in-github",
        "colab_type": "text"
      },
      "source": [
        "<a href=\"https://colab.research.google.com/github/ritamonteiroo/secagem_em_baixas_temperaturas/blob/main/Secagem_Em_Baixas_Temperaturas_Exercicio_3.ipynb\" target=\"_parent\"><img src=\"https://colab.research.google.com/assets/colab-badge.svg\" alt=\"Open In Colab\"/></a>"
      ]
    },
    {
      "cell_type": "markdown",
      "source": [
        "# Secagem em baixas temperaturas - Exercício 3 = pagina 248\n",
        "\n",
        "Criado em 23 de Setembro de 2024\n",
        "\n",
        "Script adaptado do livro de Armazenagem de Grãos de Queiroz e Valente (2018)\n",
        "\n",
        "QUEIROZ, Daniel Marçal de; VALENTE, Domingos Sárvio Magalhães. Secagem de grãos para unidades de armazenamento. In: LORINI, Irineu; MIIKE, Lincoln Hiroshi; SCUSSEL, Vildes Maria; FARONI, Lêda Rita D'Antonino. Armazenagem de Grãos. Jundiaí: Bio Geneziz, 2018. p. 231-278."
      ],
      "metadata": {
        "id": "yLXhuj1oKzwv"
      }
    },
    {
      "cell_type": "markdown",
      "source": [
        "Utilizando o programa abaixo, dimensione um silo para secagem em baixas temperaturas de milho. O silo deverá ter capacidade de 300 toneladas de milho. A temperatura e umidade relativa média do ar na região é 22°C e 80% respectivamente. O teor de água inicial do produto é de 22% e o produto deverá ser seco até 13%.\n",
        "\n"
      ],
      "metadata": {
        "id": "peMC5jjAwHp-"
      }
    },
    {
      "cell_type": "code",
      "source": [
        "#carregar os pacotes\n",
        "from scipy import interpolate\n",
        "from scipy import optimize\n",
        "from scipy.interpolate import RegularGridInterpolator\n",
        "import math\n",
        "import numpy as np\n",
        "import matplotlib.pyplot as plt\n",
        "from scipy.optimize import fsolve"
      ],
      "metadata": {
        "id": "LKADuQbiLHLk"
      },
      "execution_count": null,
      "outputs": []
    },
    {
      "cell_type": "code",
      "execution_count": null,
      "metadata": {
        "id": "2xgJCS8KKyV4"
      },
      "outputs": [],
      "source": [
        "#função para cálculo da pressão de vapor de saturação, mmHg\n",
        "pvsf=lambda Tabs:22105649.25*math.exp((-27405.526+97.5413*Tabs-0.146244*Tabs**2+1.2558E-4*Tabs**3-4.8502E-8*Tabs**4)/\n",
        " (4.34903*Tabs-3.9381E-3*Tabs**2))/133.22"
      ]
    },
    {
      "cell_type": "code",
      "source": [
        "#Cálculo da diferença entre a umidade de equilíbrio e a umidade relativa do ar\n",
        "def equilibrio(DT,Tamb,URamb,A,B,C,uf):\n",
        "  pvsamb=pvsf(Tamb+273.15)\n",
        "  pv=URamb*pvsamb/100.0\n",
        "  Tn=Tamb+DT\n",
        "  pvsn=pvsf(Tn+273.15)\n",
        "  URn=pv/pvsn*100\n",
        "  Ubs=uf/(100-uf)\n",
        "  return 1-math.exp(-A*(Tn+C)*(100*Ubs)**B)-URn/100\n",
        "\n"
      ],
      "metadata": {
        "id": "OAK-e_KyLVsS"
      },
      "execution_count": null,
      "outputs": []
    },
    {
      "cell_type": "code",
      "source": [
        "# definindo banco de dados de fluxos mínimos para secagem de milho\n",
        "T=[15.0,17.5,20.0,22.0,24.0,26.0,28.0,30.0]\n",
        "U=[16.0,17.0,18.0,19.0,20.0,21.0,22.0,23.0,24.0,25.0]\n",
        "FM=[[0.05,0.14,0.19,0.25,0.33,0.38,0.48,0.65],\n",
        "    [0.17,0.26,0.33,0.43,0.50,0.61,0.82,1.04],\n",
        "    [0.30,0.41,0.53,0.63,0.82,1.01,1.34,1.69],\n",
        "    [0.45,0.62,0.82,0.99,1.24,1.55,2.01,2.55],\n",
        "    [0.66,0.91,1.19,1.43,1.77,2.23,2.83,3.59],\n",
        "    [0.92,1.27,1.65,1.97,2.46,3.06,3.87,4.86],\n",
        "    [1.25,1.72,2.23,2.65,3.28,4.08,5.12,6.48],\n",
        "    [1.65,2.27,2.93,3.47,4.28,5.30,6.62,8.38],\n",
        "    [2.14,2.93,3.77,4.43,5.44,6.73,8.30,10.4],\n",
        "    [2.70,3.71,4.73,5.55,6.79,8.37,10.3,12.8]]\n",
        "\n",
        "# Convertendo listas para arrays numpy\n",
        "T_array = np.array(T)\n",
        "U_array = np.array(U)\n",
        "FM_array = np.array(FM)\n",
        "\n",
        "# Criando o interpolador\n",
        "# Criando o interpolador\n",
        "f = RegularGridInterpolator((U_array, T_array), FM_array, bounds_error=False, fill_value=np.nan)\n"
      ],
      "metadata": {
        "id": "hJstQilHNuAU"
      },
      "execution_count": null,
      "outputs": []
    },
    {
      "cell_type": "code",
      "source": [
        "#definindo os coeficientes de perda de carga\n",
        "pc_par={'milho':[0.5829,0.5117],'soja':[0.333,0.302],\n",
        "        'sorgo':[0.6005,0.1343],'arroz':[0.722,0.197],\n",
        "        'trigo':[0.825,0.164]}"
      ],
      "metadata": {
        "id": "AtCIgI5dO09J"
      },
      "execution_count": null,
      "outputs": []
    },
    {
      "cell_type": "code",
      "source": [
        "# definindo o peso específico dos produtos\n",
        "pesp_par={'milho':750,'soja':772,'sorgo':721,'arroz':600,'feijão':750,\"trigo\":780}"
      ],
      "metadata": {
        "id": "z9Xm10nYO7FP"
      },
      "execution_count": null,
      "outputs": []
    },
    {
      "cell_type": "code",
      "source": [
        "#definindo o parâmetro do Equação de Henderson Modificada para umidade de equilíbrio\n",
        "ue_par={'milho':[8.6541E-5,1.8634,49.810],'soja':[50.3633E-5,1.3628,43.015],\n",
        "        'sorgo':[0.8532E-5,2.4757,113.725],'arroz':[1.9187E-5,2.4451,51.161],\n",
        "        'feijão':[2.0889E-5,1.8812,254.23],'trigo':[2.5738E-5,2.2110,70.318]}"
      ],
      "metadata": {
        "id": "JM0zHOAwPDpL"
      },
      "execution_count": null,
      "outputs": []
    },
    {
      "cell_type": "code",
      "source": [
        "#Entrada de dados\n",
        "print(\"\\nPROGRAMA PARA DIMENSIONAMENTO DE SISTEMAS DE SECAGEM EM  BAIXAS TEMPERATURAS\")\n",
        "print(\"\\nENTRADA DE DADOS:\")\n",
        "\n",
        "produto=input(\"Qual é o produto a ser seco?\\n\")\n",
        "\n",
        "Tamb=float(input(\"\\nQual é a temperatura ambiente, em graus celsius?\\n\"))\n",
        "URamb=float(input(\"\\nQual é a umidade relativa ambiente, %\\n\"))\n",
        "ui=float(input(\"\\nQual é a umidade inicial do produto, %b.u.?\\n\"))\n",
        "uf=float(input(\"\\nQual é a umidade final desejada para o produto, %b.u.?\\n\"))\n",
        "d=float(input(\"\\nQual é o diâmetro do silo a ser utilizado, em m?\\n\"))\n",
        "h=float(input(\"\\nQual é a altura da parte cilíndrica do silo, em m?\\n\"))\n",
        "me=int(input(\"\\nQual é o método de enchimento do silo (entre 0 se for por camadas e 1 se for em uma etapa)?\\n\"))\n",
        "\n",
        "if me==0:\n",
        "   qs=float(input(\"\\nQual o fluxo de ar a ser utilizado (geralmente entre 1.00 e 1.25 m**3/min/t com silo cheio)?\\n\"))\n",
        "# convertendo variável produto para letras minúsculas\n",
        "produto=produto.lower()\n",
        "# definindo parâmetros da Equação de Henderson Modificada\n",
        "A,B,C=ue_par[produto]\n",
        "DT=0\n",
        "\n",
        "print(\"\\n\\nRESULTADOS:\")"
      ],
      "metadata": {
        "colab": {
          "base_uri": "https://localhost:8080/"
        },
        "id": "GtTikTpePWbL",
        "outputId": "e54e7be9-509d-4fd7-91d8-a1d6175bbcb8"
      },
      "execution_count": null,
      "outputs": [
        {
          "output_type": "stream",
          "name": "stdout",
          "text": [
            "\n",
            "PROGRAMA PARA DIMENSIONAMENTO DE SISTEMAS DE SECAGEM EM  BAIXAS TEMPERATURAS\n",
            "\n",
            "ENTRADA DE DADOS:\n",
            "Qual é o produto a ser seco?\n",
            "milho\n",
            "\n",
            "Qual é a temperatura ambiente, em graus celsius?\n",
            "22\n",
            "\n",
            "Qual é a umidade relativa ambiente, %\n",
            "80\n",
            "\n",
            "Qual é a umidade inicial do produto, %b.u.?\n",
            "22\n",
            "\n",
            "Qual é a umidade final desejada para o produto, %b.u.?\n",
            "13\n",
            "\n",
            "Qual é o diâmetro do silo a ser utilizado, em m?\n",
            "9.09\n",
            "\n",
            "Qual é a altura da parte cilíndrica do silo, em m?\n",
            "6\n",
            "\n",
            "Qual é o método de enchimento do silo (entre 0 se for por camadas e 1 se for em uma etapa)?\n",
            "0\n",
            "\n",
            "Qual o fluxo de ar a ser utilizado (geralmente entre 1.00 e 1.25 m**3/min/t com silo cheio)?\n",
            "1\n",
            "\n",
            "\n",
            "RESULTADOS:\n"
          ]
        }
      ]
    },
    {
      "cell_type": "code",
      "source": [
        "#chamando função newton da Biblioteca Scipy para o cálculo do aquecimento ou do resfriamento do ar necessário\n",
        "res = optimize.newton(equilibrio,DT,args=(Tamb,URamb,A,B,C,uf))-1\n",
        "if(res>0):\n",
        "  print(\"Aquecimento necessário do ar (graus celsius): {0:.2f}\".format(res))\n",
        "else:\n",
        "  print(\"Resfriamento necessário do ar (graus celsius): {0:.2f}\".format(-res))\n",
        "\n",
        "# Obtém o valor de fluxo de ar mínimo baseado na temperatura corrigida\n",
        "temp = Tamb + res + 1\n",
        "Qmin = f([ui, temp])\n",
        "\n",
        "\n",
        "# Garantir que Qmin não seja None ou NaN\n",
        "if np.isnan(Qmin).any():\n",
        "    print(\"Aviso: O valor de Qmin está fora dos limites de interpolação!\")\n",
        "    Qmin = np.array([1e-6])  # Fornecer um valor mínimo para evitar zero\n",
        "else:\n",
        "    Qmin = Qmin[0]  # Extrair o valor interpolado para o fluxo de ar mínimo\n",
        "\n",
        "print(f\"Fluxo de ar mínimo (m³/(min.t)): {Qmin:.4f}\")  # Verificação do Qmin\n",
        "\n",
        "# Calcula a área da base do silo\n",
        "area = math.pi * d**2 / 4\n",
        "capacidade = area * h * pesp_par[produto] / 1000\n",
        "print(f\"Capacidade do silo (t): {capacidade:.2f}\")\n",
        "\n",
        "# Define a vazão mínima de ar com base no método de enchimento\n",
        "if me == 0:\n",
        "    # Enchimento por camadas\n",
        "    Q = qs * capacidade\n",
        "    Qa = Q / area\n",
        "    m = Q / Qmin\n",
        "else:\n",
        "    # Enchimento em uma etapa\n",
        "    Q = Qmin * capacidade\n",
        "    Qa = Q / area\n",
        "\n",
        "# Evita que Qa seja muito pequeno ou zero\n",
        "Qa = max(Qa, 1e-6)  # Define um valor mínimo para Qa para evitar problemas no logaritmo\n",
        "\n",
        "# Calcula perda de carga e potências do ventilador\n",
        "a, b = pc_par[produto]\n",
        "log_term = 1 + b * Qa\n",
        "\n",
        "\n",
        "if log_term > 0:\n",
        "    pe = 1.5 * h * a * Qa**2 / math.log(log_term)\n",
        "else:\n",
        "    pe = 0  # Defina uma alternativa em caso de logaritmo inválido\n",
        "\n",
        "# Ajusta o fluxo de ar para o ventilador\n",
        "Q = Q * 1.25\n",
        "pot = Q * pe / (4500 * 0.60)\n",
        "pot_aq = 17.28 * Q * res\n",
        "\n",
        "# Exibe os resultados\n",
        "print(f\"Vazão de ar do ventilador (m³/min): {Q:.2f}\")\n",
        "print(f\"Pressão estática do ventilador (mm c.a.): {pe:.2f}\")\n",
        "print(f\"Potência estimada do ventilador (cv): {pot:.2f}\")\n",
        "print(f\"Quantidade de energia térmica para aquecimento (kW): {pot_aq / 860:.2f}\")\n",
        "\n",
        "if me == 0:\n",
        "    print(f\"Quantidade máxima de produto a ser colocada por camada (t): {m:.2f}\")"
      ],
      "metadata": {
        "colab": {
          "base_uri": "https://localhost:8080/"
        },
        "id": "8cR6q3FV6fHE",
        "outputId": "fe03e887-c669-4f31-ea72-29f9a1a131a2"
      },
      "execution_count": null,
      "outputs": [
        {
          "output_type": "stream",
          "name": "stdout",
          "text": [
            "Aquecimento necessário do ar (graus celsius): 2.82\n",
            "Fluxo de ar mínimo (m³/(min.t)): 4.0095\n",
            "Capacidade do silo (t): 292.03\n",
            "Vazão de ar do ventilador (m³/min): 365.04\n",
            "Pressão estática do ventilador (mm c.a.): 88.92\n",
            "Potência estimada do ventilador (cv): 12.02\n",
            "Quantidade de energia térmica para aquecimento (kW): 20.71\n",
            "Quantidade máxima de produto a ser colocada por camada (t): 72.83\n"
          ]
        }
      ]
    }
  ]
}